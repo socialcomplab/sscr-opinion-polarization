{
 "cells": [
  {
   "cell_type": "code",
   "execution_count": 26,
   "metadata": {},
   "outputs": [],
   "source": [
    "import pandas as pd\n",
    "import texthero as hero\n",
    "from nltk.corpus import stopwords\n",
    "import umap\n",
    "from gensim.models import TfidfModel\n",
    "from gensim.corpora import Dictionary\n",
    "from gensim.matutils import corpus2csc\n",
    "import seaborn as sns\n",
    "from scipy import stats\n",
    "\n",
    "data_dir = \"data/\""
   ]
  },
  {
   "cell_type": "code",
   "execution_count": 7,
   "metadata": {},
   "outputs": [],
   "source": [
    "import tqdm\n",
    "tqdm.tqdm.pandas()"
   ]
  },
  {
   "cell_type": "markdown",
   "metadata": {},
   "source": [
    "# Load Data"
   ]
  },
  {
   "cell_type": "code",
   "execution_count": null,
   "metadata": {},
   "outputs": [],
   "source": [
    "tweets_df = pd.read_json(data_dir + \"german_covid.jsonl\", lines=True)"
   ]
  },
  {
   "cell_type": "code",
   "execution_count": null,
   "metadata": {},
   "outputs": [],
   "source": [
    "# users = pd.json_normalize(tweets_df[\"user\"])\n",
    "# users.info()"
   ]
  },
  {
   "cell_type": "markdown",
   "metadata": {},
   "source": [
    "# Sentiment Analysis"
   ]
  },
  {
   "cell_type": "code",
   "execution_count": 4,
   "metadata": {},
   "outputs": [],
   "source": [
    "from textblob_de import BlobberDE\n",
    "blobber = BlobberDE()"
   ]
  },
  {
   "cell_type": "code",
   "execution_count": 5,
   "metadata": {},
   "outputs": [],
   "source": [
    "def map_sentiment_textblob(text):\n",
    "    tb = blobber(text)\n",
    "    return tb.sentiment.polarity"
   ]
  },
  {
   "cell_type": "code",
   "execution_count": 6,
   "metadata": {},
   "outputs": [
    {
     "data": {
      "text/plain": [
       "(12260, 31856, 1385)"
      ]
     },
     "execution_count": 6,
     "metadata": {},
     "output_type": "execute_result"
    }
   ],
   "source": [
    "impf = tweets_df[tweets_df[\"full_text\"].str.lower().str.contains(\"impf\")]  # impfstoff, impfung, impfen, ...\n",
    "mask = tweets_df[tweets_df[\"full_text\"].str.lower().str.contains(\"mask\")]  # includes english stem as well\n",
    "trac = tweets_df[tweets_df[\"full_text\"].str.lower().str.contains(\"trac\")]  # trace and track\n",
    "len(impf), len(mask), len(trac)"
   ]
  },
  {
   "cell_type": "code",
   "execution_count": 9,
   "metadata": {},
   "outputs": [
    {
     "name": "stderr",
     "output_type": "stream",
     "text": [
      "100%|██████████| 12260/12260 [02:13<00:00, 91.96it/s] \n",
      "<ipython-input-9-b11e96d92297>:1: SettingWithCopyWarning: \n",
      "A value is trying to be set on a copy of a slice from a DataFrame.\n",
      "Try using .loc[row_indexer,col_indexer] = value instead\n",
      "\n",
      "See the caveats in the documentation: https://pandas.pydata.org/pandas-docs/stable/user_guide/indexing.html#returning-a-view-versus-a-copy\n",
      "  impf[\"sent_tb\"] = impf[\"full_text\"].progress_map(map_sentiment_textblob)\n"
     ]
    },
    {
     "data": {
      "text/plain": [
       "count    12260.000000\n",
       "mean         0.078077\n",
       "std          0.410653\n",
       "min         -1.000000\n",
       "25%          0.000000\n",
       "50%          0.000000\n",
       "75%          0.200000\n",
       "max          1.000000\n",
       "Name: sent_tb, dtype: float64"
      ]
     },
     "execution_count": 9,
     "metadata": {},
     "output_type": "execute_result"
    }
   ],
   "source": [
    "impf[\"sent_tb\"] = impf[\"full_text\"].progress_map(map_sentiment_textblob)\n",
    "impf[\"sent_tb\"].describe()"
   ]
  },
  {
   "cell_type": "code",
   "execution_count": 10,
   "metadata": {},
   "outputs": [
    {
     "name": "stderr",
     "output_type": "stream",
     "text": [
      "100%|██████████| 31856/31856 [05:49<00:00, 91.25it/s] \n",
      "<ipython-input-10-36ad8b16c2b2>:1: SettingWithCopyWarning: \n",
      "A value is trying to be set on a copy of a slice from a DataFrame.\n",
      "Try using .loc[row_indexer,col_indexer] = value instead\n",
      "\n",
      "See the caveats in the documentation: https://pandas.pydata.org/pandas-docs/stable/user_guide/indexing.html#returning-a-view-versus-a-copy\n",
      "  mask[\"sent_tb\"] = mask[\"full_text\"].progress_map(map_sentiment_textblob)\n"
     ]
    },
    {
     "data": {
      "text/plain": [
       "count    31856.000000\n",
       "mean         0.010009\n",
       "std          0.341242\n",
       "min         -1.000000\n",
       "25%          0.000000\n",
       "50%          0.000000\n",
       "75%          0.000000\n",
       "max          1.000000\n",
       "Name: sent_tb, dtype: float64"
      ]
     },
     "execution_count": 10,
     "metadata": {},
     "output_type": "execute_result"
    }
   ],
   "source": [
    "mask[\"sent_tb\"] = mask[\"full_text\"].progress_map(map_sentiment_textblob)\n",
    "mask[\"sent_tb\"].describe()"
   ]
  },
  {
   "cell_type": "code",
   "execution_count": 11,
   "metadata": {},
   "outputs": [
    {
     "name": "stderr",
     "output_type": "stream",
     "text": [
      "100%|██████████| 1385/1385 [00:16<00:00, 81.69it/s]\n",
      "<ipython-input-11-15aeba38a85d>:1: SettingWithCopyWarning: \n",
      "A value is trying to be set on a copy of a slice from a DataFrame.\n",
      "Try using .loc[row_indexer,col_indexer] = value instead\n",
      "\n",
      "See the caveats in the documentation: https://pandas.pydata.org/pandas-docs/stable/user_guide/indexing.html#returning-a-view-versus-a-copy\n",
      "  trac[\"sent_tb\"] = trac[\"full_text\"].progress_map(map_sentiment_textblob)\n"
     ]
    },
    {
     "data": {
      "text/plain": [
       "count    1385.000000\n",
       "mean        0.091513\n",
       "std         0.326735\n",
       "min        -1.000000\n",
       "25%         0.000000\n",
       "50%         0.000000\n",
       "75%         0.212500\n",
       "max         1.000000\n",
       "Name: sent_tb, dtype: float64"
      ]
     },
     "execution_count": 11,
     "metadata": {},
     "output_type": "execute_result"
    }
   ],
   "source": [
    "trac[\"sent_tb\"] = trac[\"full_text\"].progress_map(map_sentiment_textblob)\n",
    "trac[\"sent_tb\"].describe()"
   ]
  },
  {
   "cell_type": "markdown",
   "metadata": {},
   "source": [
    "### Only keep tweets that express a sentiment\n",
    "\n",
    "Objective statements might not represent a sentiment. Including those would not help the analysis, as it would dominate the dataset.\n",
    "We use the assumption that the space is continous and thus remove just clearly non-sentiment (e.g., purely objective) tweets would not necesarily lead to a bimodal distribution.\n",
    "Another way of looking at it is that we could also remove any particular value (e.g., 0.5) without altering the overall distribution. \n",
    "Note that things would change if we remove an interval instead (e.g., [-0.5, 0.5] would alwayls lead to a bimodal distribution, since no peak can emerge in the middle)."
   ]
  },
  {
   "cell_type": "code",
   "execution_count": 12,
   "metadata": {},
   "outputs": [
    {
     "data": {
      "text/plain": [
       "( 0.000000    6840\n",
       "  1.000000     965\n",
       " -0.700000     530\n",
       "  0.350000     512\n",
       "  0.700000     459\n",
       "              ... \n",
       "  0.522222       1\n",
       " -0.071429       1\n",
       "  0.558333       1\n",
       "  0.544444       1\n",
       " -0.361111       1\n",
       " Name: sent_tb, Length: 257, dtype: int64,\n",
       "  0.000000    16431\n",
       " -0.150000     1687\n",
       "  0.350000     1087\n",
       " -0.500000      884\n",
       "  1.000000      829\n",
       "              ...  \n",
       " -0.025000        1\n",
       "  0.094444        1\n",
       " -0.344444        1\n",
       " -0.131250        1\n",
       " -0.190000        1\n",
       " Name: sent_tb, Length: 490, dtype: int64,\n",
       "  0.000000    751\n",
       "  1.000000     57\n",
       "  0.500000     50\n",
       "  0.700000     48\n",
       "  0.350000     44\n",
       "             ... \n",
       "  0.050000      1\n",
       " -0.283333      1\n",
       "  0.325000      1\n",
       " -0.616667      1\n",
       " -0.312500      1\n",
       " Name: sent_tb, Length: 114, dtype: int64)"
      ]
     },
     "execution_count": 12,
     "metadata": {},
     "output_type": "execute_result"
    }
   ],
   "source": [
    "# Verify the assumption\n",
    "impf[\"sent_tb\"].value_counts(), mask[\"sent_tb\"].value_counts(), trac[\"sent_tb\"].value_counts()"
   ]
  },
  {
   "cell_type": "markdown",
   "metadata": {},
   "source": [
    "# Calculating Statistics"
   ]
  },
  {
   "cell_type": "code",
   "execution_count": 13,
   "metadata": {},
   "outputs": [
    {
     "data": {
      "text/plain": [
       "(5420, 15425, 634)"
      ]
     },
     "execution_count": 13,
     "metadata": {},
     "output_type": "execute_result"
    }
   ],
   "source": [
    "impf_w = impf[impf[\"sent_tb\"] != 0]\n",
    "mask_w = mask[mask[\"sent_tb\"] != 0]\n",
    "trac_w = trac[trac[\"sent_tb\"] != 0]\n",
    "len(impf_w), len(mask_w), len(trac_w)"
   ]
  },
  {
   "cell_type": "code",
   "execution_count": 30,
   "metadata": {},
   "outputs": [
    {
     "name": "stdout",
     "output_type": "stream",
     "text": [
      "impf\n",
      "var:  0.3640867798081387\n",
      "skew: -0.2745040757204821\n",
      "kurt: -1.0242479232394304\n"
     ]
    },
    {
     "data": {
      "text/plain": [
       "count    5420.000000\n",
       "mean        0.176610\n",
       "std         0.603396\n",
       "min        -1.000000\n",
       "25%        -0.333333\n",
       "50%         0.283333\n",
       "75%         0.700000\n",
       "max         1.000000\n",
       "Name: sent_tb, dtype: float64"
      ]
     },
     "execution_count": 30,
     "metadata": {},
     "output_type": "execute_result"
    }
   ],
   "source": [
    "print(\"impf\")\n",
    "# print(stats.normaltest(impf_w['sent_tb'].values))\n",
    "print(f\"var:  {impf_w['sent_tb'].var()}\")\n",
    "print(f\"skew: {impf_w['sent_tb'].skew()}\")\n",
    "print(f\"kurt: {impf_w['sent_tb'].kurt()}\")\n",
    "impf_w[\"sent_tb\"].describe()"
   ]
  },
  {
   "cell_type": "code",
   "execution_count": 31,
   "metadata": {},
   "outputs": [
    {
     "name": "stdout",
     "output_type": "stream",
     "text": [
      "mask\n",
      "var:  0.240274186717451\n",
      "skew: -0.06270836097748878\n",
      "kurt: -0.399444232014428\n"
     ]
    },
    {
     "data": {
      "text/plain": [
       "count    15425.000000\n",
       "mean         0.020671\n",
       "std          0.490178\n",
       "min         -1.000000\n",
       "25%         -0.333333\n",
       "50%         -0.050000\n",
       "75%          0.350000\n",
       "max          1.000000\n",
       "Name: sent_tb, dtype: float64"
      ]
     },
     "execution_count": 31,
     "metadata": {},
     "output_type": "execute_result"
    }
   ],
   "source": [
    "print(\"mask\")\n",
    "# print(stats.normaltest(mask_w['sent_tb'].values))\n",
    "print(f\"var:  {mask_w['sent_tb'].var()}\")\n",
    "print(f\"skew: {mask_w['sent_tb'].skew()}\")\n",
    "print(f\"kurt: {mask_w['sent_tb'].kurt()}\")\n",
    "mask_w[\"sent_tb\"].describe()"
   ]
  },
  {
   "cell_type": "code",
   "execution_count": 32,
   "metadata": {},
   "outputs": [
    {
     "name": "stdout",
     "output_type": "stream",
     "text": [
      "trac\n",
      "var:  0.21170721179102275\n",
      "skew: -0.19803013475403233\n",
      "kurt: -0.3868433366696431\n"
     ]
    },
    {
     "data": {
      "text/plain": [
       "count    634.000000\n",
       "mean       0.199915\n",
       "std        0.460117\n",
       "min       -1.000000\n",
       "25%       -0.175000\n",
       "50%        0.238095\n",
       "75%        0.500000\n",
       "max        1.000000\n",
       "Name: sent_tb, dtype: float64"
      ]
     },
     "execution_count": 32,
     "metadata": {},
     "output_type": "execute_result"
    }
   ],
   "source": [
    "print(\"trac\")\n",
    "# print(stats.normaltest(trac_w['sent_tb'].values))\n",
    "print(f\"var:  {trac_w['sent_tb'].var()}\")\n",
    "print(f\"skew: {trac_w['sent_tb'].skew()}\")\n",
    "print(f\"kurt: {trac_w['sent_tb'].kurt()}\")\n",
    "trac_w[\"sent_tb\"].describe()"
   ]
  },
  {
   "cell_type": "markdown",
   "metadata": {},
   "source": [
    "# Plotting"
   ]
  },
  {
   "cell_type": "code",
   "execution_count": 18,
   "metadata": {},
   "outputs": [],
   "source": [
    "import seaborn as sns\n",
    "import matplotlib.pyplot as plt\n",
    "\n",
    "sns.set_palette(sns.color_palette(\"blend:gray,white\"))"
   ]
  },
  {
   "cell_type": "code",
   "execution_count": 19,
   "metadata": {},
   "outputs": [
    {
     "data": {
      "image/png": "[encoded data removed]",
      "text/plain": [
       "<Figure size 1296x288 with 3 Axes>"
      ]
     },
     "metadata": {
      "needs_background": "light"
     },
     "output_type": "display_data"
    }
   ],
   "source": [
    "fig, ax = plt.subplots(nrows=1, ncols=3, figsize=(18,4))\n",
    "sns.boxplot(data=impf_w, y=\"sent_tb\", ax=ax[0])\n",
    "sns.boxplot(data=mask_w, y=\"sent_tb\", ax=ax[1])\n",
    "sns.boxplot(data=trac_w, y=\"sent_tb\", ax=ax[2])\n",
    "ax[0].set_title(\"impf\")\n",
    "ax[1].set_title(\"mask\")\n",
    "ax[2].set_title(\"trac\");\n",
    "\n",
    "ax[0].set_ylabel(\"Sentiment\", fontsize=20)\n",
    "ax[1].set_ylabel(\"\")\n",
    "ax[2].set_ylabel(\"\")\n",
    "\n",
    "ax[0].set_title(\"Vaccination\", fontsize=18)\n",
    "ax[1].set_title(\"Mask Mandate\", fontsize=18)\n",
    "ax[2].set_title(\"Contact Tracing\", fontsize=18);"
   ]
  },
  {
   "cell_type": "code",
   "execution_count": 20,
   "metadata": {},
   "outputs": [
    {
     "data": {
      "text/plain": [
       "21479"
      ]
     },
     "execution_count": 20,
     "metadata": {},
     "output_type": "execute_result"
    }
   ],
   "source": [
    "len(impf_w) + len(mask_w) + len(trac_w)"
   ]
  },
  {
   "cell_type": "code",
   "execution_count": null,
   "metadata": {},
   "outputs": [],
   "source": []
  }
 ],
 "metadata": {
  "kernelspec": {
   "display_name": "Python 3 (ipykernel)",
   "language": "python",
   "name": "python3"
  },
  "language_info": {
   "codemirror_mode": {
    "name": "ipython",
    "version": 3
   },
   "file_extension": ".py",
   "mimetype": "text/x-python",
   "name": "python",
   "nbconvert_exporter": "python",
   "pygments_lexer": "ipython3",
   "version": "3.9.5"
  }
 },
 "nbformat": 4,
 "nbformat_minor": 4
}
