{
 "cells": [
  {
   "cell_type": "code",
   "execution_count": 1,
   "metadata": {},
   "outputs": [],
   "source": [
    "import pandas as pd\n",
    "import texthero as hero\n",
    "from nltk.corpus import stopwords\n",
    "import umap\n",
    "from gensim.models import TfidfModel\n",
    "from gensim.corpora import Dictionary\n",
    "from gensim.matutils import corpus2csc\n",
    "import seaborn as sns\n",
    "from scipy import stats\n",
    "\n",
    "data_dir = \"data/\""
   ]
  },
  {
   "cell_type": "code",
   "execution_count": 4,
   "metadata": {},
   "outputs": [],
   "source": [
    "import tqdm\n",
    "tqdm.tqdm.pandas()"
   ]
  },
  {
   "cell_type": "markdown",
   "metadata": {},
   "source": [
    "# Load Data"
   ]
  },
  {
   "cell_type": "code",
   "execution_count": 2,
   "metadata": {},
   "outputs": [],
   "source": [
    "# don't load everything\n",
    "chunks = pd.read_json(data_dir + \"german_covid_full.jsonl\", lines=True, chunksize=100_000)"
   ]
  },
  {
   "cell_type": "code",
   "execution_count": 3,
   "metadata": {},
   "outputs": [],
   "source": [
    "# users = pd.json_normalize(tweets_df[\"user\"])\n",
    "# users.info()"
   ]
  },
  {
   "cell_type": "code",
   "execution_count": 5,
   "metadata": {},
   "outputs": [
    {
     "name": "stderr",
     "output_type": "stream",
     "text": [
      "34it [16:39, 29.40s/it]\n"
     ]
    }
   ],
   "source": [
    "impf_list = []\n",
    "mask_list = []\n",
    "trac_list = []\n",
    "\n",
    "for chunk in tqdm.tqdm(chunks):\n",
    "    impf_list.append(\n",
    "        chunk[chunk[\"full_text\"].str.lower().str.contains(\"impf\")]\n",
    "    )\n",
    "    mask_list.append(\n",
    "        chunk[chunk[\"full_text\"].str.lower().str.contains(\"mask\")]\n",
    "    )\n",
    "    trac_list.append(\n",
    "        chunk[chunk[\"full_text\"].str.lower().str.contains(\"trac\")]\n",
    "    )"
   ]
  },
  {
   "cell_type": "code",
   "execution_count": 6,
   "metadata": {},
   "outputs": [
    {
     "data": {
      "text/plain": [
       "(63676, 136198, 13151)"
      ]
     },
     "execution_count": 6,
     "metadata": {},
     "output_type": "execute_result"
    }
   ],
   "source": [
    "impf = pd.concat(impf_list)  # impfstoff, impfung, impfen, ...\n",
    "mask = pd.concat(mask_list)  # includes english stem as well\n",
    "trac = pd.concat(trac_list)  # trace and track\n",
    "len(impf), len(mask), len(trac)"
   ]
  },
  {
   "cell_type": "code",
   "execution_count": 7,
   "metadata": {},
   "outputs": [
    {
     "data": {
      "text/plain": [
       "(Timestamp('2020-01-29 01:06:59'), Timestamp('2020-08-10 23:56:30'))"
      ]
     },
     "execution_count": 7,
     "metadata": {},
     "output_type": "execute_result"
    }
   ],
   "source": [
    "pd.to_datetime(impf[\"created_at\"]).min(), pd.to_datetime(impf[\"created_at\"]).max()"
   ]
  },
  {
   "cell_type": "code",
   "execution_count": 8,
   "metadata": {},
   "outputs": [
    {
     "data": {
      "text/plain": [
       "(Timestamp('2020-01-29 02:45:04'), Timestamp('2020-08-10 23:55:38'))"
      ]
     },
     "execution_count": 8,
     "metadata": {},
     "output_type": "execute_result"
    }
   ],
   "source": [
    "pd.to_datetime(mask[\"created_at\"]).min(), pd.to_datetime(mask[\"created_at\"]).max()"
   ]
  },
  {
   "cell_type": "code",
   "execution_count": 9,
   "metadata": {},
   "outputs": [
    {
     "data": {
      "text/plain": [
       "(Timestamp('2020-01-29 05:50:37'), Timestamp('2020-08-10 23:52:55'))"
      ]
     },
     "execution_count": 9,
     "metadata": {},
     "output_type": "execute_result"
    }
   ],
   "source": [
    "pd.to_datetime(trac[\"created_at\"]).min(), pd.to_datetime(trac[\"created_at\"]).max()"
   ]
  },
  {
   "cell_type": "markdown",
   "metadata": {},
   "source": [
    "# Sentiment Analysis"
   ]
  },
  {
   "cell_type": "code",
   "execution_count": 10,
   "metadata": {},
   "outputs": [],
   "source": [
    "from textblob_de import BlobberDE\n",
    "blobber = BlobberDE()"
   ]
  },
  {
   "cell_type": "code",
   "execution_count": 11,
   "metadata": {},
   "outputs": [],
   "source": [
    "def map_sentiment_textblob(text):\n",
    "    tb = blobber(text)\n",
    "    return tb.sentiment.polarity"
   ]
  },
  {
   "cell_type": "code",
   "execution_count": 13,
   "metadata": {},
   "outputs": [
    {
     "name": "stderr",
     "output_type": "stream",
     "text": [
      "100%|██████████| 63676/63676 [11:20<00:00, 93.55it/s] \n"
     ]
    },
    {
     "data": {
      "text/plain": [
       "count    63676.000000\n",
       "mean         0.078003\n",
       "std          0.384029\n",
       "min         -1.000000\n",
       "25%          0.000000\n",
       "50%          0.000000\n",
       "75%          0.175000\n",
       "max          1.000000\n",
       "Name: sent_tb, dtype: float64"
      ]
     },
     "execution_count": 13,
     "metadata": {},
     "output_type": "execute_result"
    }
   ],
   "source": [
    "impf[\"sent_tb\"] = impf[\"full_text\"].progress_map(map_sentiment_textblob)\n",
    "impf[\"sent_tb\"].describe()"
   ]
  },
  {
   "cell_type": "code",
   "execution_count": 15,
   "metadata": {},
   "outputs": [],
   "source": [
    "impf[\"sent_tb\"].to_csv(\"data/r63_user/twitter_full_vacc.csv\", sep=\";\")"
   ]
  },
  {
   "cell_type": "code",
   "execution_count": 16,
   "metadata": {},
   "outputs": [
    {
     "name": "stderr",
     "output_type": "stream",
     "text": [
      "100%|██████████| 136198/136198 [24:10<00:00, 93.90it/s] \n"
     ]
    },
    {
     "data": {
      "text/plain": [
       "count    136198.000000\n",
       "mean          0.026916\n",
       "std           0.349173\n",
       "min          -1.000000\n",
       "25%           0.000000\n",
       "50%           0.000000\n",
       "75%           0.116667\n",
       "max           1.000000\n",
       "Name: sent_tb, dtype: float64"
      ]
     },
     "execution_count": 16,
     "metadata": {},
     "output_type": "execute_result"
    }
   ],
   "source": [
    "mask[\"sent_tb\"] = mask[\"full_text\"].progress_map(map_sentiment_textblob)\n",
    "mask[\"sent_tb\"].describe()"
   ]
  },
  {
   "cell_type": "code",
   "execution_count": 17,
   "metadata": {},
   "outputs": [],
   "source": [
    "mask[\"sent_tb\"].to_csv(\"data/r63_user/twitter_full_mask.csv\", sep=\";\")"
   ]
  },
  {
   "cell_type": "code",
   "execution_count": 18,
   "metadata": {},
   "outputs": [
    {
     "name": "stderr",
     "output_type": "stream",
     "text": [
      "100%|██████████| 13151/13151 [02:31<00:00, 86.97it/s] \n"
     ]
    },
    {
     "data": {
      "text/plain": [
       "count    13151.000000\n",
       "mean         0.067178\n",
       "std          0.344481\n",
       "min         -1.000000\n",
       "25%          0.000000\n",
       "50%          0.000000\n",
       "75%          0.170000\n",
       "max          1.000000\n",
       "Name: sent_tb, dtype: float64"
      ]
     },
     "execution_count": 18,
     "metadata": {},
     "output_type": "execute_result"
    }
   ],
   "source": [
    "trac[\"sent_tb\"] = trac[\"full_text\"].progress_map(map_sentiment_textblob)\n",
    "trac[\"sent_tb\"].describe()"
   ]
  },
  {
   "cell_type": "code",
   "execution_count": 19,
   "metadata": {},
   "outputs": [],
   "source": [
    "trac[\"sent_tb\"].to_csv(\"data/r63_user/twitter_full_ct.csv\", sep=\";\")"
   ]
  },
  {
   "cell_type": "markdown",
   "metadata": {},
   "source": [
    "### Only keep tweets that express a sentiment\n",
    "\n",
    "Objective statements might not represent a sentiment. Including those would not help the analysis, as it would dominate the dataset.\n",
    "We use the assumption that the space is continous and thus remove just clearly non-sentiment (e.g., purely objective) tweets would not necesarily lead to a bimodal distribution.\n",
    "Another way of looking at it is that we could also remove any particular value (e.g., 0.5) without altering the overall distribution. \n",
    "Note that things would change if we remove an interval instead (e.g., [-0.5, 0.5] would alwayls lead to a bimodal distribution, since no peak can emerge in the middle)."
   ]
  },
  {
   "cell_type": "code",
   "execution_count": 15,
   "metadata": {},
   "outputs": [
    {
     "data": {
      "text/plain": [
       "( 0.000000    32680\n",
       "  1.000000     3841\n",
       "  0.350000     1953\n",
       "  0.700000     1816\n",
       "  0.500000     1804\n",
       "              ...  \n",
       " -0.013333        1\n",
       " -0.416667        1\n",
       " -0.230000        1\n",
       "  0.254167        1\n",
       " -0.361111        1\n",
       " Name: sent_tb, Length: 545, dtype: int64,\n",
       "  0.000000    65854\n",
       "  0.500000     5679\n",
       "  0.350000     4675\n",
       " -0.500000     4342\n",
       " -1.000000     3626\n",
       "              ...  \n",
       " -0.264286        1\n",
       "  0.733333        1\n",
       " -0.058333        1\n",
       " -0.043750        1\n",
       " -0.190000        1\n",
       " Name: sent_tb, Length: 886, dtype: int64,\n",
       "  0.000000    6441\n",
       "  0.350000     432\n",
       "  0.500000     388\n",
       "  0.700000     378\n",
       "  1.000000     368\n",
       "              ... \n",
       "  0.094444       1\n",
       "  0.444444       1\n",
       " -0.108333       1\n",
       " -0.425000       1\n",
       " -0.200000       1\n",
       " Name: sent_tb, Length: 289, dtype: int64)"
      ]
     },
     "execution_count": 15,
     "metadata": {},
     "output_type": "execute_result"
    }
   ],
   "source": [
    "# Verify the assumption\n",
    "impf[\"sent_tb\"].value_counts(), mask[\"sent_tb\"].value_counts(), trac[\"sent_tb\"].value_counts()"
   ]
  },
  {
   "cell_type": "markdown",
   "metadata": {},
   "source": [
    "# Calculating Statistics"
   ]
  },
  {
   "cell_type": "code",
   "execution_count": 16,
   "metadata": {},
   "outputs": [
    {
     "data": {
      "text/plain": [
       "(25769, 60218, 4819)"
      ]
     },
     "execution_count": 16,
     "metadata": {},
     "output_type": "execute_result"
    }
   ],
   "source": [
    "impf_w = impf[impf[\"sent_tb\"] != 0]\n",
    "mask_w = mask[mask[\"sent_tb\"] != 0]\n",
    "trac_w = trac[trac[\"sent_tb\"] != 0]\n",
    "len(impf_w), len(mask_w), len(trac_w)"
   ]
  },
  {
   "cell_type": "code",
   "execution_count": 17,
   "metadata": {},
   "outputs": [
    {
     "name": "stdout",
     "output_type": "stream",
     "text": [
      "impf\n",
      "var:  0.32336269277512053\n",
      "skew: -0.28684917131819093\n",
      "kurt: -0.8114604917033961\n"
     ]
    },
    {
     "data": {
      "text/plain": [
       "count    25769.000000\n",
       "mean         0.182344\n",
       "std          0.568650\n",
       "min         -1.000000\n",
       "25%         -0.283333\n",
       "50%          0.250000\n",
       "75%          0.666667\n",
       "max          1.000000\n",
       "Name: sent_tb, dtype: float64"
      ]
     },
     "execution_count": 17,
     "metadata": {},
     "output_type": "execute_result"
    }
   ],
   "source": [
    "print(\"impf\")\n",
    "# print(stats.normaltest(impf_w['sent_tb'].values))\n",
    "print(f\"var:  {impf_w['sent_tb'].var()}\")\n",
    "print(f\"skew: {impf_w['sent_tb'].skew()}\")\n",
    "print(f\"kurt: {impf_w['sent_tb'].kurt()}\")\n",
    "impf_w[\"sent_tb\"].describe()"
   ]
  },
  {
   "cell_type": "code",
   "execution_count": 18,
   "metadata": {},
   "outputs": [
    {
     "name": "stdout",
     "output_type": "stream",
     "text": [
      "mask\n",
      "var:  0.25346369690772363\n",
      "skew: -0.28866174158489377\n",
      "kurt: -0.5556439693137918\n"
     ]
    },
    {
     "data": {
      "text/plain": [
       "count    60218.000000\n",
       "mean         0.054637\n",
       "std          0.503452\n",
       "min         -1.000000\n",
       "25%         -0.333333\n",
       "50%          0.166667\n",
       "75%          0.425000\n",
       "max          1.000000\n",
       "Name: sent_tb, dtype: float64"
      ]
     },
     "execution_count": 18,
     "metadata": {},
     "output_type": "execute_result"
    }
   ],
   "source": [
    "print(\"mask\")\n",
    "# print(stats.normaltest(mask_w['sent_tb'].values))\n",
    "print(f\"var:  {mask_w['sent_tb'].var()}\")\n",
    "print(f\"skew: {mask_w['sent_tb'].skew()}\")\n",
    "print(f\"kurt: {mask_w['sent_tb'].kurt()}\")\n",
    "mask_w[\"sent_tb\"].describe()"
   ]
  },
  {
   "cell_type": "code",
   "execution_count": 19,
   "metadata": {},
   "outputs": [
    {
     "name": "stdout",
     "output_type": "stream",
     "text": [
      "trac\n",
      "var:  0.2575038330195423\n",
      "skew: -0.38547096269278414\n",
      "kurt: -0.4020327348633086\n"
     ]
    },
    {
     "data": {
      "text/plain": [
       "count    4819.000000\n",
       "mean        0.152787\n",
       "std         0.507448\n",
       "min        -1.000000\n",
       "25%        -0.233333\n",
       "50%         0.233333\n",
       "75%         0.500000\n",
       "max         1.000000\n",
       "Name: sent_tb, dtype: float64"
      ]
     },
     "execution_count": 19,
     "metadata": {},
     "output_type": "execute_result"
    }
   ],
   "source": [
    "print(\"trac\")\n",
    "# print(stats.normaltest(trac_w['sent_tb'].values))\n",
    "print(f\"var:  {trac_w['sent_tb'].var()}\")\n",
    "print(f\"skew: {trac_w['sent_tb'].skew()}\")\n",
    "print(f\"kurt: {trac_w['sent_tb'].kurt()}\")\n",
    "trac_w[\"sent_tb\"].describe()"
   ]
  },
  {
   "cell_type": "markdown",
   "metadata": {},
   "source": [
    "# Plotting"
   ]
  },
  {
   "cell_type": "code",
   "execution_count": 27,
   "metadata": {},
   "outputs": [],
   "source": [
    "import seaborn as sns\n",
    "import matplotlib.pyplot as plt\n",
    "\n",
    "sns.set_palette(sns.color_palette(\"blend:gray,white\"))"
   ]
  },
  {
   "cell_type": "code",
   "execution_count": 28,
   "metadata": {},
   "outputs": [
    {
     "data": {
      "image/png": "[encoded data removed]",
      "text/plain": [
       "<Figure size 1296x288 with 3 Axes>"
      ]
     },
     "metadata": {
      "needs_background": "light"
     },
     "output_type": "display_data"
    }
   ],
   "source": [
    "fig, ax = plt.subplots(nrows=1, ncols=3, figsize=(18,4))\n",
    "sns.boxplot(data=impf_w, y=\"sent_tb\", ax=ax[0])\n",
    "sns.boxplot(data=mask_w, y=\"sent_tb\", ax=ax[1])\n",
    "sns.boxplot(data=trac_w, y=\"sent_tb\", ax=ax[2])\n",
    "ax[0].set_title(\"impf\")\n",
    "ax[1].set_title(\"mask\")\n",
    "ax[2].set_title(\"trac\");\n",
    "\n",
    "ax[0].set_ylabel(\"Sentiment\", fontsize=20)\n",
    "ax[1].set_ylabel(\"\")\n",
    "ax[2].set_ylabel(\"\")\n",
    "\n",
    "ax[0].set_title(\"Vaccination\", fontsize=18)\n",
    "ax[1].set_title(\"Mask Mandate\", fontsize=18)\n",
    "ax[2].set_title(\"Contact Tracing\", fontsize=18);"
   ]
  },
  {
   "cell_type": "code",
   "execution_count": 29,
   "metadata": {},
   "outputs": [
    {
     "data": {
      "text/plain": [
       "90806"
      ]
     },
     "execution_count": 29,
     "metadata": {},
     "output_type": "execute_result"
    }
   ],
   "source": [
    "len(impf_w) + len(mask_w) + len(trac_w)"
   ]
  },
  {
   "cell_type": "code",
   "execution_count": null,
   "metadata": {},
   "outputs": [],
   "source": []
  }
 ],
 "metadata": {
  "kernelspec": {
   "display_name": "Python 3 (ipykernel)",
   "language": "python",
   "name": "python3"
  },
  "language_info": {
   "codemirror_mode": {
    "name": "ipython",
    "version": 3
   },
   "file_extension": ".py",
   "mimetype": "text/x-python",
   "name": "python",
   "nbconvert_exporter": "python",
   "pygments_lexer": "ipython3",
   "version": "3.9.5"
  }
 },
 "nbformat": 4,
 "nbformat_minor": 4
}
