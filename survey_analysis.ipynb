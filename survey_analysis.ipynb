{
 "cells": [
  {
   "cell_type": "markdown",
   "metadata": {},
   "source": [
    "# DATA ANALYSIS IN SPSS"
   ]
  },
  {
   "cell_type": "markdown",
   "metadata": {},
   "source": [
    "## Variable Prep"
   ]
  },
  {
   "cell_type": "markdown",
   "metadata": {},
   "source": [
    "### Sociodemografics"
   ]
  },
  {
   "cell_type": "code",
   "execution_count": null,
   "metadata": {},
   "outputs": [],
   "source": [
    "RECODE Q23 (MISSING=SYSMIS) (18 thru 29=1) (30 thru 39=2) (40 thru 49=3) (50 thru 59=4) (60 thru \n",
    "    69=5) INTO Alter_kat.\n",
    "VARIABLE LABELS  Alter_kat 'Alter kategorisiert'.\n",
    "EXECUTE.\n",
    "\n",
    "\n",
    "compute Bildung_kat = 0.\n",
    "if (Q24 = 1 or Q24 = 2 or Q24 = 3 or Q24 = 4 or Q24 = 8 or Q24 = 9 or Q24 = 10) Bildung_kat = 1.\n",
    "if (Q24 = 5 or Q24 = 11 or Q24 = 12) Bildung_kat = 2.\n",
    "if (Q24 = 6 or Q24 = 13 or Q24 = 14 or Q24 = 15 or Q24 = 16) Bildung_kat = 3.\n",
    "if (Q24 = 7 or Q24 = 17 or Q24 = 18 or Q24 = 19 or Q24 = 20 or Q24 =21 or Q24 = 22) Bildung_kat = 4.\n",
    "variable labels Bildung_kat 'Bildung kategorisiert'.\n",
    "add value labels Bildung_kat 1 'Max. Pflichtschulabschluss/Mittlere Reife'.\n",
    "add value labels Bildung_kat  2 'Berufliche Ausbildung'.\n",
    "add value labels Bildung_kat  3 'Matura/Abitur o.ä.'.\n",
    "add value labels Bildung_kat  4 'Hochschule'.\n",
    "execute."
   ]
  },
  {
   "cell_type": "markdown",
   "metadata": {},
   "source": [
    "### COVID Variables"
   ]
  },
  {
   "cell_type": "code",
   "execution_count": null,
   "metadata": {},
   "outputs": [],
   "source": [
    "recode Q05r1 (1=5) (2=4) (3=3) (4=2) (5=1) (missing=sysmis) (else=sysmis) into Maßnahme_Impfpflicht.\n",
    "execute.\n",
    "\n",
    "recode Q05r2 (1=5) (2=4) (3=3) (4=2) (5=1) (missing=sysmis) (else=sysmis) into Maßnahme_ContactTracing.\n",
    "execute.\n",
    "\n",
    "recode Q05r3 (1=1) (2=2) (3=3) (4=4) (5=5) (missing=sysmis) (else=sysmis) into Maßnahme_Schutzmaske.\n",
    "execute.\n",
    "\n",
    "    \n",
    "compute EinstellungMaßnahmen = mean (Maßnahme_Impfpflicht , Maßnahme_ContactTracing, Maßnahme_Schutzmaske).\n",
    "execute.\n",
    "\n",
    "\n",
    "RECODE Q10r2 (MISSING=SYSMIS) (1 thru 5=1) (6 thru 7=2) INTO Twitternutzung.\n",
    "VARIABLE LABELS  Twitternutzung 'Twitternutzung ja/nein'.\n",
    "EXECUTE."
   ]
  },
  {
   "cell_type": "markdown",
   "metadata": {},
   "source": [
    "#### Filters"
   ]
  },
  {
   "cell_type": "code",
   "execution_count": null,
   "metadata": {},
   "outputs": [],
   "source": [
    "USE ALL.\n",
    "COMPUTE filter_$=(Twitternutzung = 1).\n",
    "VARIABLE LABELS filter_$ 'Twitternutzung = 1 (FILTER)'.\n",
    "VALUE LABELS filter_$ 0 'Not Selected' 1 'Selected'.\n",
    "FORMATS filter_$ (f1.0).\n",
    "FILTER BY filter_$.\n",
    "EXECUTE.\n",
    "    \n",
    "USE ALL.\n",
    "COMPUTE filter_$=(protected = 0).\n",
    "VARIABLE LABELS filter_$ 'protected = 0 (FILTER)'.\n",
    "VALUE LABELS filter_$ 0 'Not Selected' 1 'Selected'.\n",
    "FORMATS filter_$ (f1.0).\n",
    "FILTER BY filter_$.\n",
    "EXECUTE."
   ]
  },
  {
   "cell_type": "markdown",
   "metadata": {},
   "source": [
    "#### Descriptive Analyses"
   ]
  },
  {
   "cell_type": "code",
   "execution_count": null,
   "metadata": {},
   "outputs": [],
   "source": [
    "FREQUENCIES VARIABLES=Q19 H_Q19 Q22 Q23 Q20 Q21 Q24 Q25 Q26r1 Q27 Q28r1 Q29r1 Q30r1 Q30r2 Alter_kat Bildung_kat\n",
    "    noanswerQ30_r99\n",
    "  /STATISTICS=STDDEV MINIMUM MAXIMUM MEAN\n",
    "  /ORDER=ANALYSIS.\n",
    "\n",
    "\n",
    "FREQUENCIES VARIABLES=Maßnahme_Impfpflicht  Maßnahme_Schutzmaske  Maßnahme_ContactTracing EinstellungMaßnahmen\n",
    "  /STATISTICS=STDDEV VARIANCE MEAN MEDIAN MODE SKEWNESS SESKEW KURTOSIS SEKURT\n",
    "  /ORDER=ANALYSIS."
   ]
  },
  {
   "cell_type": "markdown",
   "metadata": {},
   "source": [
    "#### Boxplots for COVID-19 measures"
   ]
  },
  {
   "cell_type": "code",
   "execution_count": null,
   "metadata": {},
   "outputs": [],
   "source": [
    "GGRAPH\n",
    "  /GRAPHDATASET NAME=\"graphdataset\" VARIABLES=Maßnahme_Impfpflicht MISSING=LISTWISE REPORTMISSING=NO    \n",
    "  /GRAPHSPEC SOURCE=INLINE.\n",
    "BEGIN GPL\n",
    "  SOURCE: s=userSource(id(\"graphdataset\"))\n",
    "  DATA: Maßnahme_Impfpflicht=col(source(s), name(\"Maßnahme_Impfpflicht\"))\n",
    "  DATA: id=col(source(s), name(\"$CASENUM\"), unit.category())\n",
    "  GUIDE: axis(dim(2), label(\" \"))\n",
    "  SCALE: linear(dim(2), min(1), max(5))\n",
    "  ELEMENT: schema(position(bin.quantile.letter(1*Maßnahme_Impfpflicht)), label(id))\n",
    "END GPL.\n",
    "\n",
    "\n",
    "GGRAPH\n",
    "  /GRAPHDATASET NAME=\"graphdataset\" VARIABLES=Maßnahme_ContactTracing MISSING=LISTWISE REPORTMISSING=NO    \n",
    "  /GRAPHSPEC SOURCE=INLINE.\n",
    "BEGIN GPL\n",
    "  SOURCE: s=userSource(id(\"graphdataset\"))\n",
    "  DATA: Maßnahme_ContactTracing=col(source(s), name(\"Maßnahme_ContactTracing\"))\n",
    "  DATA: id=col(source(s), name(\"$CASENUM\"), unit.category())\n",
    "  GUIDE: axis(dim(2), label(\" \"))\n",
    "  SCALE: linear(dim(2), min(1), max(5))\n",
    "  ELEMENT: schema(position(bin.quantile.letter(1*Maßnahme_ContactTracing)), label(id))\n",
    "END GPL.\n",
    "\n",
    "\n",
    "GGRAPH\n",
    "  /GRAPHDATASET NAME=\"graphdataset\" VARIABLES=Maßnahme_Schutzmaske MISSING=LISTWISE REPORTMISSING=NO    \n",
    "  /GRAPHSPEC SOURCE=INLINE.\n",
    "BEGIN GPL\n",
    "  SOURCE: s=userSource(id(\"graphdataset\"))\n",
    "  DATA: Maßnahme_Schutzmaske=col(source(s), name(\"Maßnahme_Schutzmaske\"))\n",
    "  DATA: id=col(source(s), name(\"$CASENUM\"), unit.category())\n",
    "  GUIDE: axis(dim(2), label(\" \"))\n",
    "  SCALE: linear(dim(2), min(1), max(5))\n",
    "  ELEMENT: schema(position(bin.quantile.letter(1*Maßnahme_Schutzmaske)), label(id))\n",
    "END GPL."
   ]
  },
  {
   "cell_type": "code",
   "execution_count": null,
   "metadata": {},
   "outputs": [],
   "source": []
  }
 ],
 "metadata": {
  "kernelspec": {
   "display_name": "polarice",
   "language": "python",
   "name": "polarice"
  },
  "language_info": {
   "codemirror_mode": {
    "name": "ipython",
    "version": 3
   },
   "file_extension": ".py",
   "mimetype": "text/x-python",
   "name": "python",
   "nbconvert_exporter": "python",
   "pygments_lexer": "ipython3",
   "version": "3.8.5"
  }
 },
 "nbformat": 4,
 "nbformat_minor": 4
}
