{
 "cells": [
  {
   "cell_type": "markdown",
   "metadata": {},
   "source": [
    "# BOXPLOTS IN PYTHON"
   ]
  },
  {
   "cell_type": "code",
   "execution_count": null,
   "metadata": {},
   "outputs": [],
   "source": [
    "import numpy as np\n",
    "import matplotlib.pyplot as plt\n",
    "import pandas as pd\n",
    "import seaborn as sns\n",
    "import statistics\n",
    "\n",
    "data = \"path_to_data\""
   ]
  },
  {
   "cell_type": "code",
   "execution_count": null,
   "metadata": {},
   "outputs": [],
   "source": [
    "df1 = pd.read_spss(data + '\\11.08.2020_KAA78493_Finale Daten_Internetnutzer DACH2.sav')\n",
    "df2 = pd.read_spss(data + '\\Subsample_Twitteruser.sav')\n",
    "df3 = pd.read_spss(data + '\\Subsample_TwitteruserPermission.sav')"
   ]
  },
  {
   "cell_type": "code",
   "execution_count": null,
   "metadata": {},
   "outputs": [],
   "source": [
    "df1.info(), df2.info(), df3.info()"
   ]
  },
  {
   "cell_type": "markdown",
   "metadata": {},
   "source": [
    "## boxplots for whole sample"
   ]
  },
  {
   "cell_type": "code",
   "execution_count": null,
   "metadata": {},
   "outputs": [],
   "source": [
    "sns.boxplot(y=df1[\"Maßnahme_Impfpflicht\"],  width=0.8, color=\"gray\")\n",
    "plt.title(\"Vaccination\", size=20)\n",
    "plt.ylabel(\"Agreement\", size=20)\n",
    "\n",
    "sns.boxplot(y=df1[\"Maßnahme_Schutzmaske\"],  width=0.8, color=\"gray\")\n",
    "plt.title(\"Mask Mandate\", size=20)\n",
    "plt.ylabel(\"\", size=13)\n",
    "\n",
    "sns.boxplot(y=df1[\"Maßnahme_ContactTracing\"],  width=0.8, color=\"gray\")\n",
    "plt.title(\"Contact Tracing\", size=20)\n",
    "plt.ylabel(\"\", size=13)"
   ]
  },
  {
   "cell_type": "markdown",
   "metadata": {},
   "source": [
    "## boxplots for Twitter users"
   ]
  },
  {
   "cell_type": "code",
   "execution_count": null,
   "metadata": {},
   "outputs": [],
   "source": [
    "sns.boxplot(y=df2[\"Maßnahme_Impfpflicht\"],  width=0.8, color=\"gray\")\n",
    "plt.title(\"Vaccination\", size=20)\n",
    "plt.ylabel(\"Agreement\", size=20)\n",
    "\n",
    "sns.boxplot(y=df2[\"Maßnahme_Schutzmaske\"],  width=0.8, color=\"gray\")\n",
    "plt.title(\"Mask Mandate\", size=20)\n",
    "plt.ylabel(\"\", size=13)\n",
    "\n",
    "sns.boxplot(y=df2[\"Maßnahme_ContactTracing\"],  width=0.8, color=\"gray\")\n",
    "plt.title(\"Contact Tracing\", size=20)\n",
    "plt.ylabel(\"\", size=13)"
   ]
  },
  {
   "cell_type": "markdown",
   "metadata": {},
   "source": [
    "## boxplots for analyzed Twitter users"
   ]
  },
  {
   "cell_type": "code",
   "execution_count": null,
   "metadata": {},
   "outputs": [],
   "source": [
    "sns.boxplot(y=df3[\"Maßnahme_Impfpflicht\"],  width=0.8, color=\"gray\")\n",
    "plt.title(\"Vaccination\", size=20)\n",
    "plt.ylabel(\"Agreement\", size=20)\n",
    "\n",
    "sns.boxplot(y=df3[\"Maßnahme_Schutzmaske\"],  width=0.8, color=\"gray\")\n",
    "plt.title(\"Mask Mandate\", size=20)\n",
    "plt.ylabel(\"\", size=13)\n",
    "\n",
    "sns.boxplot(y=df3[\"Maßnahme_ContactTracing\"],  width=0.8, color=\"gray\")\n",
    "plt.title(\"Contact Tracing\", size=20)\n",
    "plt.ylabel(\"\", size=13)"
   ]
  }
 ],
 "metadata": {
  "kernelspec": {
   "display_name": "polarice",
   "language": "python",
   "name": "polarice"
  },
  "language_info": {
   "codemirror_mode": {
    "name": "ipython",
    "version": 3
   },
   "file_extension": ".py",
   "mimetype": "text/x-python",
   "name": "python",
   "nbconvert_exporter": "python",
   "pygments_lexer": "ipython3",
   "version": "3.8.5"
  }
 },
 "nbformat": 4,
 "nbformat_minor": 4
}
